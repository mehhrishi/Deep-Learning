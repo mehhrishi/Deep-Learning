{
 "cells": [
  {
   "cell_type": "markdown",
   "metadata": {
    "id": "WqroSOuCwyxK"
   },
   "source": [
    "# **Breast cancer (diagnostic) dataset**"
   ]
  },
  {
   "cell_type": "markdown",
   "metadata": {
    "id": "TxrbYZWRxd9s"
   },
   "source": [
    "\n",
    "## The Data\n",
    "\n",
    "### Breast cancer wisconsin (diagnostic) dataset\n",
    "--------------------------------------------\n",
    "\n",
    "**Data Set Characteristics:**\n",
    "\n",
    "    :Number of Instances: 569\n",
    "\n",
    "    :Number of Attributes: 30 numeric, predictive attributes and the class\n",
    "\n",
    "    :Attribute Information:\n",
    "        - radius (mean of distances from center to points on the perimeter)\n",
    "        - texture (standard deviation of gray-scale values)\n",
    "        - perimeter\n",
    "        - area\n",
    "        - smoothness (local variation in radius lengths)\n",
    "        - compactness (perimeter^2 / area - 1.0)\n",
    "        - concavity (severity of concave portions of the contour)\n",
    "        - concave points (number of concave portions of the contour)\n",
    "        - symmetry \n",
    "        - fractal dimension (\"coastline approximation\" - 1)\n",
    "\n",
    "        The mean, standard error, and \"worst\" or largest (mean of the three\n",
    "        largest values) of these features were computed for each image,\n",
    "        resulting in 30 features.  For instance, field 3 is Mean Radius, field\n",
    "        13 is Radius SE, field 23 is Worst Radius.\n",
    "\n",
    "        - class:\n",
    "                - WDBC-Malignant\n",
    "                - WDBC-Benign\n",
    "\n",
    "    :Summary Statistics:\n",
    "\n",
    "    ===================================== ====== ======\n",
    "                                           Min    Max\n",
    "    ===================================== ====== ======\n",
    "    radius (mean):                        6.981  28.11\n",
    "    texture (mean):                       9.71   39.28\n",
    "    perimeter (mean):                     43.79  188.5\n",
    "    area (mean):                          143.5  2501.0\n",
    "    smoothness (mean):                    0.053  0.163\n",
    "    compactness (mean):                   0.019  0.345\n",
    "    concavity (mean):                     0.0    0.427\n",
    "    concave points (mean):                0.0    0.201\n",
    "    symmetry (mean):                      0.106  0.304\n",
    "    fractal dimension (mean):             0.05   0.097\n",
    "    radius (standard error):              0.112  2.873\n",
    "    texture (standard error):             0.36   4.885\n",
    "    perimeter (standard error):           0.757  21.98\n",
    "    area (standard error):                6.802  542.2\n",
    "    smoothness (standard error):          0.002  0.031\n",
    "    compactness (standard error):         0.002  0.135\n",
    "    concavity (standard error):           0.0    0.396\n",
    "    concave points (standard error):      0.0    0.053\n",
    "    symmetry (standard error):            0.008  0.079\n",
    "    fractal dimension (standard error):   0.001  0.03\n",
    "    radius (worst):                       7.93   36.04\n",
    "    texture (worst):                      12.02  49.54\n",
    "    perimeter (worst):                    50.41  251.2\n",
    "    area (worst):                         185.2  4254.0\n",
    "    smoothness (worst):                   0.071  0.223\n",
    "    compactness (worst):                  0.027  1.058\n",
    "    concavity (worst):                    0.0    1.252\n",
    "    concave points (worst):               0.0    0.291\n",
    "    symmetry (worst):                     0.156  0.664\n",
    "    fractal dimension (worst):            0.055  0.208\n",
    "    ===================================== ====== ======\n",
    "\n",
    "    :Missing Attribute Values: None\n",
    "\n",
    "    :Class Distribution: 212 - Malignant, 357 - Benign\n",
    "\n",
    "    :Creator:  Dr. William H. Wolberg, W. Nick Street, Olvi L. Mangasarian\n",
    "\n",
    "    :Donor: Nick Street\n",
    "\n",
    "    :Date: November, 1995\n",
    "\n",
    "This is a copy of UCI ML Breast Cancer Wisconsin (Diagnostic) datasets.\n",
    "https://goo.gl/U2Uwz2\n"
   ]
  },
  {
   "cell_type": "code",
   "execution_count": 1,
   "metadata": {
    "executionInfo": {
     "elapsed": 55,
     "status": "ok",
     "timestamp": 1685873857989,
     "user": {
      "displayName": "Swapnil Sawant",
      "userId": "15366720411887311485"
     },
     "user_tz": -330
    },
    "id": "UrlLQJqMybZu"
   },
   "outputs": [],
   "source": [
    "import pandas as pd\n",
    "import numpy as np\n",
    "import matplotlib.pyplot as plt\n",
    "import seaborn as sns\n",
    "import warnings\n",
    "warnings.filterwarnings(\"ignore\")\n",
    "import tensorflow as tf"
   ]
  },
  {
   "cell_type": "code",
   "execution_count": 3,
   "metadata": {
    "executionInfo": {
     "elapsed": 56,
     "status": "ok",
     "timestamp": 1685873857991,
     "user": {
      "displayName": "Swapnil Sawant",
      "userId": "15366720411887311485"
     },
     "user_tz": -330
    },
    "id": "wCfD67yPyiEP"
   },
   "outputs": [],
   "source": [
    "df=pd.read_csv('cancer_classification.csv')"
   ]
  },
  {
   "cell_type": "code",
   "execution_count": 4,
   "metadata": {
    "colab": {
     "base_uri": "https://localhost:8080/",
     "height": 334
    },
    "executionInfo": {
     "elapsed": 57,
     "status": "ok",
     "timestamp": 1685873857992,
     "user": {
      "displayName": "Swapnil Sawant",
      "userId": "15366720411887311485"
     },
     "user_tz": -330
    },
    "id": "i3Je2-M0yn1Q",
    "outputId": "81cf717b-e789-40cf-d93c-94c0bf06510d"
   },
   "outputs": [
    {
     "data": {
      "text/html": [
       "<div>\n",
       "<style scoped>\n",
       "    .dataframe tbody tr th:only-of-type {\n",
       "        vertical-align: middle;\n",
       "    }\n",
       "\n",
       "    .dataframe tbody tr th {\n",
       "        vertical-align: top;\n",
       "    }\n",
       "\n",
       "    .dataframe thead th {\n",
       "        text-align: right;\n",
       "    }\n",
       "</style>\n",
       "<table border=\"1\" class=\"dataframe\">\n",
       "  <thead>\n",
       "    <tr style=\"text-align: right;\">\n",
       "      <th></th>\n",
       "      <th>mean radius</th>\n",
       "      <th>mean texture</th>\n",
       "      <th>mean perimeter</th>\n",
       "      <th>mean area</th>\n",
       "      <th>mean smoothness</th>\n",
       "      <th>mean compactness</th>\n",
       "      <th>mean concavity</th>\n",
       "      <th>mean concave points</th>\n",
       "      <th>mean symmetry</th>\n",
       "      <th>mean fractal dimension</th>\n",
       "      <th>...</th>\n",
       "      <th>worst texture</th>\n",
       "      <th>worst perimeter</th>\n",
       "      <th>worst area</th>\n",
       "      <th>worst smoothness</th>\n",
       "      <th>worst compactness</th>\n",
       "      <th>worst concavity</th>\n",
       "      <th>worst concave points</th>\n",
       "      <th>worst symmetry</th>\n",
       "      <th>worst fractal dimension</th>\n",
       "      <th>benign_0__mal_1</th>\n",
       "    </tr>\n",
       "  </thead>\n",
       "  <tbody>\n",
       "    <tr>\n",
       "      <th>0</th>\n",
       "      <td>17.99</td>\n",
       "      <td>10.38</td>\n",
       "      <td>122.80</td>\n",
       "      <td>1001.0</td>\n",
       "      <td>0.11840</td>\n",
       "      <td>0.27760</td>\n",
       "      <td>0.3001</td>\n",
       "      <td>0.14710</td>\n",
       "      <td>0.2419</td>\n",
       "      <td>0.07871</td>\n",
       "      <td>...</td>\n",
       "      <td>17.33</td>\n",
       "      <td>184.60</td>\n",
       "      <td>2019.0</td>\n",
       "      <td>0.1622</td>\n",
       "      <td>0.6656</td>\n",
       "      <td>0.7119</td>\n",
       "      <td>0.2654</td>\n",
       "      <td>0.4601</td>\n",
       "      <td>0.11890</td>\n",
       "      <td>0</td>\n",
       "    </tr>\n",
       "    <tr>\n",
       "      <th>1</th>\n",
       "      <td>20.57</td>\n",
       "      <td>17.77</td>\n",
       "      <td>132.90</td>\n",
       "      <td>1326.0</td>\n",
       "      <td>0.08474</td>\n",
       "      <td>0.07864</td>\n",
       "      <td>0.0869</td>\n",
       "      <td>0.07017</td>\n",
       "      <td>0.1812</td>\n",
       "      <td>0.05667</td>\n",
       "      <td>...</td>\n",
       "      <td>23.41</td>\n",
       "      <td>158.80</td>\n",
       "      <td>1956.0</td>\n",
       "      <td>0.1238</td>\n",
       "      <td>0.1866</td>\n",
       "      <td>0.2416</td>\n",
       "      <td>0.1860</td>\n",
       "      <td>0.2750</td>\n",
       "      <td>0.08902</td>\n",
       "      <td>0</td>\n",
       "    </tr>\n",
       "    <tr>\n",
       "      <th>2</th>\n",
       "      <td>19.69</td>\n",
       "      <td>21.25</td>\n",
       "      <td>130.00</td>\n",
       "      <td>1203.0</td>\n",
       "      <td>0.10960</td>\n",
       "      <td>0.15990</td>\n",
       "      <td>0.1974</td>\n",
       "      <td>0.12790</td>\n",
       "      <td>0.2069</td>\n",
       "      <td>0.05999</td>\n",
       "      <td>...</td>\n",
       "      <td>25.53</td>\n",
       "      <td>152.50</td>\n",
       "      <td>1709.0</td>\n",
       "      <td>0.1444</td>\n",
       "      <td>0.4245</td>\n",
       "      <td>0.4504</td>\n",
       "      <td>0.2430</td>\n",
       "      <td>0.3613</td>\n",
       "      <td>0.08758</td>\n",
       "      <td>0</td>\n",
       "    </tr>\n",
       "    <tr>\n",
       "      <th>3</th>\n",
       "      <td>11.42</td>\n",
       "      <td>20.38</td>\n",
       "      <td>77.58</td>\n",
       "      <td>386.1</td>\n",
       "      <td>0.14250</td>\n",
       "      <td>0.28390</td>\n",
       "      <td>0.2414</td>\n",
       "      <td>0.10520</td>\n",
       "      <td>0.2597</td>\n",
       "      <td>0.09744</td>\n",
       "      <td>...</td>\n",
       "      <td>26.50</td>\n",
       "      <td>98.87</td>\n",
       "      <td>567.7</td>\n",
       "      <td>0.2098</td>\n",
       "      <td>0.8663</td>\n",
       "      <td>0.6869</td>\n",
       "      <td>0.2575</td>\n",
       "      <td>0.6638</td>\n",
       "      <td>0.17300</td>\n",
       "      <td>0</td>\n",
       "    </tr>\n",
       "    <tr>\n",
       "      <th>4</th>\n",
       "      <td>20.29</td>\n",
       "      <td>14.34</td>\n",
       "      <td>135.10</td>\n",
       "      <td>1297.0</td>\n",
       "      <td>0.10030</td>\n",
       "      <td>0.13280</td>\n",
       "      <td>0.1980</td>\n",
       "      <td>0.10430</td>\n",
       "      <td>0.1809</td>\n",
       "      <td>0.05883</td>\n",
       "      <td>...</td>\n",
       "      <td>16.67</td>\n",
       "      <td>152.20</td>\n",
       "      <td>1575.0</td>\n",
       "      <td>0.1374</td>\n",
       "      <td>0.2050</td>\n",
       "      <td>0.4000</td>\n",
       "      <td>0.1625</td>\n",
       "      <td>0.2364</td>\n",
       "      <td>0.07678</td>\n",
       "      <td>0</td>\n",
       "    </tr>\n",
       "  </tbody>\n",
       "</table>\n",
       "<p>5 rows × 31 columns</p>\n",
       "</div>"
      ],
      "text/plain": [
       "   mean radius  mean texture  mean perimeter  mean area  mean smoothness  \\\n",
       "0        17.99         10.38          122.80     1001.0          0.11840   \n",
       "1        20.57         17.77          132.90     1326.0          0.08474   \n",
       "2        19.69         21.25          130.00     1203.0          0.10960   \n",
       "3        11.42         20.38           77.58      386.1          0.14250   \n",
       "4        20.29         14.34          135.10     1297.0          0.10030   \n",
       "\n",
       "   mean compactness  mean concavity  mean concave points  mean symmetry  \\\n",
       "0           0.27760          0.3001              0.14710         0.2419   \n",
       "1           0.07864          0.0869              0.07017         0.1812   \n",
       "2           0.15990          0.1974              0.12790         0.2069   \n",
       "3           0.28390          0.2414              0.10520         0.2597   \n",
       "4           0.13280          0.1980              0.10430         0.1809   \n",
       "\n",
       "   mean fractal dimension  ...  worst texture  worst perimeter  worst area  \\\n",
       "0                 0.07871  ...          17.33           184.60      2019.0   \n",
       "1                 0.05667  ...          23.41           158.80      1956.0   \n",
       "2                 0.05999  ...          25.53           152.50      1709.0   \n",
       "3                 0.09744  ...          26.50            98.87       567.7   \n",
       "4                 0.05883  ...          16.67           152.20      1575.0   \n",
       "\n",
       "   worst smoothness  worst compactness  worst concavity  worst concave points  \\\n",
       "0            0.1622             0.6656           0.7119                0.2654   \n",
       "1            0.1238             0.1866           0.2416                0.1860   \n",
       "2            0.1444             0.4245           0.4504                0.2430   \n",
       "3            0.2098             0.8663           0.6869                0.2575   \n",
       "4            0.1374             0.2050           0.4000                0.1625   \n",
       "\n",
       "   worst symmetry  worst fractal dimension  benign_0__mal_1  \n",
       "0          0.4601                  0.11890                0  \n",
       "1          0.2750                  0.08902                0  \n",
       "2          0.3613                  0.08758                0  \n",
       "3          0.6638                  0.17300                0  \n",
       "4          0.2364                  0.07678                0  \n",
       "\n",
       "[5 rows x 31 columns]"
      ]
     },
     "execution_count": 4,
     "metadata": {},
     "output_type": "execute_result"
    }
   ],
   "source": [
    "df.head()"
   ]
  },
  {
   "cell_type": "code",
   "execution_count": 5,
   "metadata": {
    "colab": {
     "base_uri": "https://localhost:8080/"
    },
    "executionInfo": {
     "elapsed": 56,
     "status": "ok",
     "timestamp": 1685873857993,
     "user": {
      "displayName": "Swapnil Sawant",
      "userId": "15366720411887311485"
     },
     "user_tz": -330
    },
    "id": "XJmIsAT2vAmd",
    "outputId": "8078de17-94ab-428c-ed6e-ff88b628182f"
   },
   "outputs": [
    {
     "name": "stdout",
     "output_type": "stream",
     "text": [
      "<class 'pandas.core.frame.DataFrame'>\n",
      "RangeIndex: 569 entries, 0 to 568\n",
      "Data columns (total 31 columns):\n",
      " #   Column                   Non-Null Count  Dtype  \n",
      "---  ------                   --------------  -----  \n",
      " 0   mean radius              569 non-null    float64\n",
      " 1   mean texture             569 non-null    float64\n",
      " 2   mean perimeter           569 non-null    float64\n",
      " 3   mean area                569 non-null    float64\n",
      " 4   mean smoothness          569 non-null    float64\n",
      " 5   mean compactness         569 non-null    float64\n",
      " 6   mean concavity           569 non-null    float64\n",
      " 7   mean concave points      569 non-null    float64\n",
      " 8   mean symmetry            569 non-null    float64\n",
      " 9   mean fractal dimension   569 non-null    float64\n",
      " 10  radius error             569 non-null    float64\n",
      " 11  texture error            569 non-null    float64\n",
      " 12  perimeter error          569 non-null    float64\n",
      " 13  area error               569 non-null    float64\n",
      " 14  smoothness error         569 non-null    float64\n",
      " 15  compactness error        569 non-null    float64\n",
      " 16  concavity error          569 non-null    float64\n",
      " 17  concave points error     569 non-null    float64\n",
      " 18  symmetry error           569 non-null    float64\n",
      " 19  fractal dimension error  569 non-null    float64\n",
      " 20  worst radius             569 non-null    float64\n",
      " 21  worst texture            569 non-null    float64\n",
      " 22  worst perimeter          569 non-null    float64\n",
      " 23  worst area               569 non-null    float64\n",
      " 24  worst smoothness         569 non-null    float64\n",
      " 25  worst compactness        569 non-null    float64\n",
      " 26  worst concavity          569 non-null    float64\n",
      " 27  worst concave points     569 non-null    float64\n",
      " 28  worst symmetry           569 non-null    float64\n",
      " 29  worst fractal dimension  569 non-null    float64\n",
      " 30  benign_0__mal_1          569 non-null    int64  \n",
      "dtypes: float64(30), int64(1)\n",
      "memory usage: 137.9 KB\n"
     ]
    }
   ],
   "source": [
    "df.info()"
   ]
  },
  {
   "cell_type": "code",
   "execution_count": 6,
   "metadata": {
    "colab": {
     "base_uri": "https://localhost:8080/",
     "height": 428
    },
    "executionInfo": {
     "elapsed": 53,
     "status": "ok",
     "timestamp": 1685873857994,
     "user": {
      "displayName": "Swapnil Sawant",
      "userId": "15366720411887311485"
     },
     "user_tz": -330
    },
    "id": "q72zpfcrvE5d",
    "outputId": "a560d44a-64e1-4470-b3f4-5c27e9f7d283"
   },
   "outputs": [
    {
     "data": {
      "text/html": [
       "<div>\n",
       "<style scoped>\n",
       "    .dataframe tbody tr th:only-of-type {\n",
       "        vertical-align: middle;\n",
       "    }\n",
       "\n",
       "    .dataframe tbody tr th {\n",
       "        vertical-align: top;\n",
       "    }\n",
       "\n",
       "    .dataframe thead th {\n",
       "        text-align: right;\n",
       "    }\n",
       "</style>\n",
       "<table border=\"1\" class=\"dataframe\">\n",
       "  <thead>\n",
       "    <tr style=\"text-align: right;\">\n",
       "      <th></th>\n",
       "      <th>mean radius</th>\n",
       "      <th>mean texture</th>\n",
       "      <th>mean perimeter</th>\n",
       "      <th>mean area</th>\n",
       "      <th>mean smoothness</th>\n",
       "      <th>mean compactness</th>\n",
       "      <th>mean concavity</th>\n",
       "      <th>mean concave points</th>\n",
       "      <th>mean symmetry</th>\n",
       "      <th>mean fractal dimension</th>\n",
       "      <th>...</th>\n",
       "      <th>worst texture</th>\n",
       "      <th>worst perimeter</th>\n",
       "      <th>worst area</th>\n",
       "      <th>worst smoothness</th>\n",
       "      <th>worst compactness</th>\n",
       "      <th>worst concavity</th>\n",
       "      <th>worst concave points</th>\n",
       "      <th>worst symmetry</th>\n",
       "      <th>worst fractal dimension</th>\n",
       "      <th>benign_0__mal_1</th>\n",
       "    </tr>\n",
       "  </thead>\n",
       "  <tbody>\n",
       "    <tr>\n",
       "      <th>count</th>\n",
       "      <td>569.000000</td>\n",
       "      <td>569.000000</td>\n",
       "      <td>569.000000</td>\n",
       "      <td>569.000000</td>\n",
       "      <td>569.000000</td>\n",
       "      <td>569.000000</td>\n",
       "      <td>569.000000</td>\n",
       "      <td>569.000000</td>\n",
       "      <td>569.000000</td>\n",
       "      <td>569.000000</td>\n",
       "      <td>...</td>\n",
       "      <td>569.000000</td>\n",
       "      <td>569.000000</td>\n",
       "      <td>569.000000</td>\n",
       "      <td>569.000000</td>\n",
       "      <td>569.000000</td>\n",
       "      <td>569.000000</td>\n",
       "      <td>569.000000</td>\n",
       "      <td>569.000000</td>\n",
       "      <td>569.000000</td>\n",
       "      <td>569.000000</td>\n",
       "    </tr>\n",
       "    <tr>\n",
       "      <th>mean</th>\n",
       "      <td>14.127292</td>\n",
       "      <td>19.289649</td>\n",
       "      <td>91.969033</td>\n",
       "      <td>654.889104</td>\n",
       "      <td>0.096360</td>\n",
       "      <td>0.104341</td>\n",
       "      <td>0.088799</td>\n",
       "      <td>0.048919</td>\n",
       "      <td>0.181162</td>\n",
       "      <td>0.062798</td>\n",
       "      <td>...</td>\n",
       "      <td>25.677223</td>\n",
       "      <td>107.261213</td>\n",
       "      <td>880.583128</td>\n",
       "      <td>0.132369</td>\n",
       "      <td>0.254265</td>\n",
       "      <td>0.272188</td>\n",
       "      <td>0.114606</td>\n",
       "      <td>0.290076</td>\n",
       "      <td>0.083946</td>\n",
       "      <td>0.627417</td>\n",
       "    </tr>\n",
       "    <tr>\n",
       "      <th>std</th>\n",
       "      <td>3.524049</td>\n",
       "      <td>4.301036</td>\n",
       "      <td>24.298981</td>\n",
       "      <td>351.914129</td>\n",
       "      <td>0.014064</td>\n",
       "      <td>0.052813</td>\n",
       "      <td>0.079720</td>\n",
       "      <td>0.038803</td>\n",
       "      <td>0.027414</td>\n",
       "      <td>0.007060</td>\n",
       "      <td>...</td>\n",
       "      <td>6.146258</td>\n",
       "      <td>33.602542</td>\n",
       "      <td>569.356993</td>\n",
       "      <td>0.022832</td>\n",
       "      <td>0.157336</td>\n",
       "      <td>0.208624</td>\n",
       "      <td>0.065732</td>\n",
       "      <td>0.061867</td>\n",
       "      <td>0.018061</td>\n",
       "      <td>0.483918</td>\n",
       "    </tr>\n",
       "    <tr>\n",
       "      <th>min</th>\n",
       "      <td>6.981000</td>\n",
       "      <td>9.710000</td>\n",
       "      <td>43.790000</td>\n",
       "      <td>143.500000</td>\n",
       "      <td>0.052630</td>\n",
       "      <td>0.019380</td>\n",
       "      <td>0.000000</td>\n",
       "      <td>0.000000</td>\n",
       "      <td>0.106000</td>\n",
       "      <td>0.049960</td>\n",
       "      <td>...</td>\n",
       "      <td>12.020000</td>\n",
       "      <td>50.410000</td>\n",
       "      <td>185.200000</td>\n",
       "      <td>0.071170</td>\n",
       "      <td>0.027290</td>\n",
       "      <td>0.000000</td>\n",
       "      <td>0.000000</td>\n",
       "      <td>0.156500</td>\n",
       "      <td>0.055040</td>\n",
       "      <td>0.000000</td>\n",
       "    </tr>\n",
       "    <tr>\n",
       "      <th>25%</th>\n",
       "      <td>11.700000</td>\n",
       "      <td>16.170000</td>\n",
       "      <td>75.170000</td>\n",
       "      <td>420.300000</td>\n",
       "      <td>0.086370</td>\n",
       "      <td>0.064920</td>\n",
       "      <td>0.029560</td>\n",
       "      <td>0.020310</td>\n",
       "      <td>0.161900</td>\n",
       "      <td>0.057700</td>\n",
       "      <td>...</td>\n",
       "      <td>21.080000</td>\n",
       "      <td>84.110000</td>\n",
       "      <td>515.300000</td>\n",
       "      <td>0.116600</td>\n",
       "      <td>0.147200</td>\n",
       "      <td>0.114500</td>\n",
       "      <td>0.064930</td>\n",
       "      <td>0.250400</td>\n",
       "      <td>0.071460</td>\n",
       "      <td>0.000000</td>\n",
       "    </tr>\n",
       "    <tr>\n",
       "      <th>50%</th>\n",
       "      <td>13.370000</td>\n",
       "      <td>18.840000</td>\n",
       "      <td>86.240000</td>\n",
       "      <td>551.100000</td>\n",
       "      <td>0.095870</td>\n",
       "      <td>0.092630</td>\n",
       "      <td>0.061540</td>\n",
       "      <td>0.033500</td>\n",
       "      <td>0.179200</td>\n",
       "      <td>0.061540</td>\n",
       "      <td>...</td>\n",
       "      <td>25.410000</td>\n",
       "      <td>97.660000</td>\n",
       "      <td>686.500000</td>\n",
       "      <td>0.131300</td>\n",
       "      <td>0.211900</td>\n",
       "      <td>0.226700</td>\n",
       "      <td>0.099930</td>\n",
       "      <td>0.282200</td>\n",
       "      <td>0.080040</td>\n",
       "      <td>1.000000</td>\n",
       "    </tr>\n",
       "    <tr>\n",
       "      <th>75%</th>\n",
       "      <td>15.780000</td>\n",
       "      <td>21.800000</td>\n",
       "      <td>104.100000</td>\n",
       "      <td>782.700000</td>\n",
       "      <td>0.105300</td>\n",
       "      <td>0.130400</td>\n",
       "      <td>0.130700</td>\n",
       "      <td>0.074000</td>\n",
       "      <td>0.195700</td>\n",
       "      <td>0.066120</td>\n",
       "      <td>...</td>\n",
       "      <td>29.720000</td>\n",
       "      <td>125.400000</td>\n",
       "      <td>1084.000000</td>\n",
       "      <td>0.146000</td>\n",
       "      <td>0.339100</td>\n",
       "      <td>0.382900</td>\n",
       "      <td>0.161400</td>\n",
       "      <td>0.317900</td>\n",
       "      <td>0.092080</td>\n",
       "      <td>1.000000</td>\n",
       "    </tr>\n",
       "    <tr>\n",
       "      <th>max</th>\n",
       "      <td>28.110000</td>\n",
       "      <td>39.280000</td>\n",
       "      <td>188.500000</td>\n",
       "      <td>2501.000000</td>\n",
       "      <td>0.163400</td>\n",
       "      <td>0.345400</td>\n",
       "      <td>0.426800</td>\n",
       "      <td>0.201200</td>\n",
       "      <td>0.304000</td>\n",
       "      <td>0.097440</td>\n",
       "      <td>...</td>\n",
       "      <td>49.540000</td>\n",
       "      <td>251.200000</td>\n",
       "      <td>4254.000000</td>\n",
       "      <td>0.222600</td>\n",
       "      <td>1.058000</td>\n",
       "      <td>1.252000</td>\n",
       "      <td>0.291000</td>\n",
       "      <td>0.663800</td>\n",
       "      <td>0.207500</td>\n",
       "      <td>1.000000</td>\n",
       "    </tr>\n",
       "  </tbody>\n",
       "</table>\n",
       "<p>8 rows × 31 columns</p>\n",
       "</div>"
      ],
      "text/plain": [
       "       mean radius  mean texture  mean perimeter    mean area  \\\n",
       "count   569.000000    569.000000      569.000000   569.000000   \n",
       "mean     14.127292     19.289649       91.969033   654.889104   \n",
       "std       3.524049      4.301036       24.298981   351.914129   \n",
       "min       6.981000      9.710000       43.790000   143.500000   \n",
       "25%      11.700000     16.170000       75.170000   420.300000   \n",
       "50%      13.370000     18.840000       86.240000   551.100000   \n",
       "75%      15.780000     21.800000      104.100000   782.700000   \n",
       "max      28.110000     39.280000      188.500000  2501.000000   \n",
       "\n",
       "       mean smoothness  mean compactness  mean concavity  mean concave points  \\\n",
       "count       569.000000        569.000000      569.000000           569.000000   \n",
       "mean          0.096360          0.104341        0.088799             0.048919   \n",
       "std           0.014064          0.052813        0.079720             0.038803   \n",
       "min           0.052630          0.019380        0.000000             0.000000   \n",
       "25%           0.086370          0.064920        0.029560             0.020310   \n",
       "50%           0.095870          0.092630        0.061540             0.033500   \n",
       "75%           0.105300          0.130400        0.130700             0.074000   \n",
       "max           0.163400          0.345400        0.426800             0.201200   \n",
       "\n",
       "       mean symmetry  mean fractal dimension  ...  worst texture  \\\n",
       "count     569.000000              569.000000  ...     569.000000   \n",
       "mean        0.181162                0.062798  ...      25.677223   \n",
       "std         0.027414                0.007060  ...       6.146258   \n",
       "min         0.106000                0.049960  ...      12.020000   \n",
       "25%         0.161900                0.057700  ...      21.080000   \n",
       "50%         0.179200                0.061540  ...      25.410000   \n",
       "75%         0.195700                0.066120  ...      29.720000   \n",
       "max         0.304000                0.097440  ...      49.540000   \n",
       "\n",
       "       worst perimeter   worst area  worst smoothness  worst compactness  \\\n",
       "count       569.000000   569.000000        569.000000         569.000000   \n",
       "mean        107.261213   880.583128          0.132369           0.254265   \n",
       "std          33.602542   569.356993          0.022832           0.157336   \n",
       "min          50.410000   185.200000          0.071170           0.027290   \n",
       "25%          84.110000   515.300000          0.116600           0.147200   \n",
       "50%          97.660000   686.500000          0.131300           0.211900   \n",
       "75%         125.400000  1084.000000          0.146000           0.339100   \n",
       "max         251.200000  4254.000000          0.222600           1.058000   \n",
       "\n",
       "       worst concavity  worst concave points  worst symmetry  \\\n",
       "count       569.000000            569.000000      569.000000   \n",
       "mean          0.272188              0.114606        0.290076   \n",
       "std           0.208624              0.065732        0.061867   \n",
       "min           0.000000              0.000000        0.156500   \n",
       "25%           0.114500              0.064930        0.250400   \n",
       "50%           0.226700              0.099930        0.282200   \n",
       "75%           0.382900              0.161400        0.317900   \n",
       "max           1.252000              0.291000        0.663800   \n",
       "\n",
       "       worst fractal dimension  benign_0__mal_1  \n",
       "count               569.000000       569.000000  \n",
       "mean                  0.083946         0.627417  \n",
       "std                   0.018061         0.483918  \n",
       "min                   0.055040         0.000000  \n",
       "25%                   0.071460         0.000000  \n",
       "50%                   0.080040         1.000000  \n",
       "75%                   0.092080         1.000000  \n",
       "max                   0.207500         1.000000  \n",
       "\n",
       "[8 rows x 31 columns]"
      ]
     },
     "execution_count": 6,
     "metadata": {},
     "output_type": "execute_result"
    }
   ],
   "source": [
    "df.describe()"
   ]
  },
  {
   "cell_type": "markdown",
   "metadata": {
    "id": "szotXDzsy7Oq"
   },
   "source": [
    "# Target Column"
   ]
  },
  {
   "cell_type": "code",
   "execution_count": 7,
   "metadata": {
    "colab": {
     "base_uri": "https://localhost:8080/"
    },
    "executionInfo": {
     "elapsed": 51,
     "status": "ok",
     "timestamp": 1685873857995,
     "user": {
      "displayName": "Swapnil Sawant",
      "userId": "15366720411887311485"
     },
     "user_tz": -330
    },
    "id": "bPGyDqHfw-Yo",
    "outputId": "63790096-e067-4450-a11b-cf8978d65fc7"
   },
   "outputs": [
    {
     "data": {
      "text/plain": [
       "1    357\n",
       "0    212\n",
       "Name: benign_0__mal_1, dtype: int64"
      ]
     },
     "execution_count": 7,
     "metadata": {},
     "output_type": "execute_result"
    }
   ],
   "source": [
    "df['benign_0__mal_1'].value_counts()"
   ]
  },
  {
   "cell_type": "code",
   "execution_count": 8,
   "metadata": {
    "colab": {
     "base_uri": "https://localhost:8080/",
     "height": 450
    },
    "executionInfo": {
     "elapsed": 47,
     "status": "ok",
     "timestamp": 1685873857996,
     "user": {
      "displayName": "Swapnil Sawant",
      "userId": "15366720411887311485"
     },
     "user_tz": -330
    },
    "id": "u0_QA_N-yWBn",
    "outputId": "e951adf8-217d-405d-a4b7-7e84c466ffbd"
   },
   "outputs": [
    {
     "data": {
      "image/png": "[encoded data removed]",
      "text/plain": [
       "<Figure size 640x480 with 1 Axes>"
      ]
     },
     "metadata": {},
     "output_type": "display_data"
    }
   ],
   "source": [
    "ax=sns.countplot(x='benign_0__mal_1',data=df)\n",
    "for container in ax.containers:\n",
    "        ax.bar_label(container)"
   ]
  },
  {
   "cell_type": "code",
   "execution_count": 9,
   "metadata": {
    "colab": {
     "base_uri": "https://localhost:8080/",
     "height": 565
    },
    "executionInfo": {
     "elapsed": 1112,
     "status": "ok",
     "timestamp": 1685873859063,
     "user": {
      "displayName": "Swapnil Sawant",
      "userId": "15366720411887311485"
     },
     "user_tz": -330
    },
    "id": "njln8iayyeQO",
    "outputId": "42532e1c-5fbb-41cf-bcf9-4112345f40be"
   },
   "outputs": [
    {
     "data": {
      "text/plain": [
       "<AxesSubplot:>"
      ]
     },
     "execution_count": 9,
     "metadata": {},
     "output_type": "execute_result"
    },
    {
     "data": {
      "image/png": "[encoded data removed]",
      "text/plain": [
       "<Figure size 640x480 with 2 Axes>"
      ]
     },
     "metadata": {},
     "output_type": "display_data"
    }
   ],
   "source": [
    "sns.heatmap(df.corr())"
   ]
  },
  {
   "cell_type": "code",
   "execution_count": 10,
   "metadata": {
    "colab": {
     "base_uri": "https://localhost:8080/",
     "height": 598
    },
    "executionInfo": {
     "elapsed": 1278,
     "status": "ok",
     "timestamp": 1685873860322,
     "user": {
      "displayName": "Swapnil Sawant",
      "userId": "15366720411887311485"
     },
     "user_tz": -330
    },
    "id": "35mMZUOqyhvc",
    "outputId": "3b89d78e-0fb2-49f7-be49-49153368b3b3"
   },
   "outputs": [
    {
     "data": {
      "text/plain": [
       "<AxesSubplot:>"
      ]
     },
     "execution_count": 10,
     "metadata": {},
     "output_type": "execute_result"
    },
    {
     "data": {
      "image/png": "[encoded data removed]",
      "text/plain": [
       "<Figure size 640x480 with 1 Axes>"
      ]
     },
     "metadata": {},
     "output_type": "display_data"
    }
   ],
   "source": [
    "df.corr()['benign_0__mal_1'][:-1].sort_values().plot(kind='bar')"
   ]
  },
  {
   "cell_type": "markdown",
   "metadata": {
    "id": "5FZ3P2Qmy2gh"
   },
   "source": [
    "#Train Test Split"
   ]
  },
  {
   "cell_type": "code",
   "execution_count": 11,
   "metadata": {
    "executionInfo": {
     "elapsed": 53,
     "status": "ok",
     "timestamp": 1685873860324,
     "user": {
      "displayName": "Swapnil Sawant",
      "userId": "15366720411887311485"
     },
     "user_tz": -330
    },
    "id": "tcSuqeB0yuUn"
   },
   "outputs": [],
   "source": [
    "X = df.drop('benign_0__mal_1',axis=1).values\n",
    "y = df['benign_0__mal_1'].values"
   ]
  },
  {
   "cell_type": "code",
   "execution_count": 12,
   "metadata": {
    "executionInfo": {
     "elapsed": 53,
     "status": "ok",
     "timestamp": 1685873860325,
     "user": {
      "displayName": "Swapnil Sawant",
      "userId": "15366720411887311485"
     },
     "user_tz": -330
    },
    "id": "eXs9JsHVy4oX"
   },
   "outputs": [],
   "source": [
    "from sklearn.model_selection import train_test_split"
   ]
  },
  {
   "cell_type": "code",
   "execution_count": 13,
   "metadata": {
    "executionInfo": {
     "elapsed": 54,
     "status": "ok",
     "timestamp": 1685873860326,
     "user": {
      "displayName": "Swapnil Sawant",
      "userId": "15366720411887311485"
     },
     "user_tz": -330
    },
    "id": "RJKcHjEYzUN1"
   },
   "outputs": [],
   "source": [
    "X_train, X_test, y_train, y_test = train_test_split(X,y,test_size=0.25,random_state=42,stratify=y)"
   ]
  },
  {
   "cell_type": "markdown",
   "metadata": {
    "id": "hSB4RYMCzcxP"
   },
   "source": [
    "# Scaling Data"
   ]
  },
  {
   "cell_type": "code",
   "execution_count": 14,
   "metadata": {
    "executionInfo": {
     "elapsed": 53,
     "status": "ok",
     "timestamp": 1685873860326,
     "user": {
      "displayName": "Swapnil Sawant",
      "userId": "15366720411887311485"
     },
     "user_tz": -330
    },
    "id": "SNHo1aAHzW9o"
   },
   "outputs": [],
   "source": [
    "from sklearn.preprocessing import StandardScaler"
   ]
  },
  {
   "cell_type": "code",
   "execution_count": 15,
   "metadata": {
    "executionInfo": {
     "elapsed": 53,
     "status": "ok",
     "timestamp": 1685873860327,
     "user": {
      "displayName": "Swapnil Sawant",
      "userId": "15366720411887311485"
     },
     "user_tz": -330
    },
    "id": "nZbtCJrFzl58"
   },
   "outputs": [],
   "source": [
    "std=StandardScaler()\n",
    "std.fit(X_train)\n",
    "X_train= std.transform(X_train)\n",
    "X_test= std.transform(X_test)"
   ]
  },
  {
   "cell_type": "markdown",
   "metadata": {
    "id": "_SdRh0H_0IgS"
   },
   "source": [
    "# Creating the Model"
   ]
  },
  {
   "cell_type": "code",
   "execution_count": 16,
   "metadata": {
    "executionInfo": {
     "elapsed": 53,
     "status": "ok",
     "timestamp": 1685873860327,
     "user": {
      "displayName": "Swapnil Sawant",
      "userId": "15366720411887311485"
     },
     "user_tz": -330
    },
    "id": "ThjBsLBDzrMT"
   },
   "outputs": [],
   "source": [
    "import tensorflow as tf\n",
    "from tensorflow.keras.models import Sequential\n",
    "from tensorflow.keras.layers import Dense, Activation,Dropout"
   ]
  },
  {
   "cell_type": "code",
   "execution_count": 17,
   "metadata": {
    "executionInfo": {
     "elapsed": 53,
     "status": "ok",
     "timestamp": 1685873860328,
     "user": {
      "displayName": "Swapnil Sawant",
      "userId": "15366720411887311485"
     },
     "user_tz": -330
    },
    "id": "RA3vYUwS0Eih"
   },
   "outputs": [],
   "source": [
    "model = Sequential()\n",
    "\n",
    "model.add(Dense(units=30,activation='relu'))\n",
    "model.add(Dense(units=15,activation='relu'))\n",
    "model.add(Dense(units=1,activation='sigmoid'))\n",
    "model.compile(loss='binary_crossentropy', optimizer='adam',metrics=['accuracy'])"
   ]
  },
  {
   "cell_type": "code",
   "execution_count": 18,
   "metadata": {
    "colab": {
     "base_uri": "https://localhost:8080/"
    },
    "executionInfo": {
     "elapsed": 10413,
     "status": "ok",
     "timestamp": 1685873870688,
     "user": {
      "displayName": "Swapnil Sawant",
      "userId": "15366720411887311485"
     },
     "user_tz": -330
    },
    "id": "vrT-jz_J0bYA",
    "outputId": "6c10e14d-171e-4fa1-9771-b1d8efef8aac"
   },
   "outputs": [
    {
     "name": "stdout",
     "output_type": "stream",
     "text": [
      "Epoch 1/100\n",
      "14/14 [==============================] - 1s 17ms/step - loss: 0.5462 - accuracy: 0.7277 - val_loss: 0.4773 - val_accuracy: 0.8042\n",
      "Epoch 2/100\n",
      "14/14 [==============================] - 0s 5ms/step - loss: 0.4078 - accuracy: 0.8380 - val_loss: 0.3686 - val_accuracy: 0.9231\n",
      "Epoch 3/100\n",
      "14/14 [==============================] - 0s 5ms/step - loss: 0.3031 - accuracy: 0.9202 - val_loss: 0.2912 - val_accuracy: 0.9441\n",
      "Epoch 4/100\n",
      "14/14 [==============================] - 0s 6ms/step - loss: 0.2336 - accuracy: 0.9437 - val_loss: 0.2362 - val_accuracy: 0.9441\n",
      "Epoch 5/100\n",
      "14/14 [==============================] - 0s 4ms/step - loss: 0.1882 - accuracy: 0.9460 - val_loss: 0.2013 - val_accuracy: 0.9441\n",
      "Epoch 6/100\n",
      "14/14 [==============================] - 0s 4ms/step - loss: 0.1578 - accuracy: 0.9531 - val_loss: 0.1778 - val_accuracy: 0.9441\n",
      "Epoch 7/100\n",
      "14/14 [==============================] - 0s 4ms/step - loss: 0.1371 - accuracy: 0.9577 - val_loss: 0.1627 - val_accuracy: 0.9441\n",
      "Epoch 8/100\n",
      "14/14 [==============================] - 0s 5ms/step - loss: 0.1225 - accuracy: 0.9648 - val_loss: 0.1512 - val_accuracy: 0.9441\n",
      "Epoch 9/100\n",
      "14/14 [==============================] - 0s 4ms/step - loss: 0.1115 - accuracy: 0.9695 - val_loss: 0.1414 - val_accuracy: 0.9441\n",
      "Epoch 10/100\n",
      "14/14 [==============================] - 0s 4ms/step - loss: 0.1019 - accuracy: 0.9742 - val_loss: 0.1341 - val_accuracy: 0.9441\n",
      "Epoch 11/100\n",
      "14/14 [==============================] - 0s 4ms/step - loss: 0.0941 - accuracy: 0.9765 - val_loss: 0.1282 - val_accuracy: 0.9510\n",
      "Epoch 12/100\n",
      "14/14 [==============================] - 0s 4ms/step - loss: 0.0879 - accuracy: 0.9812 - val_loss: 0.1237 - val_accuracy: 0.9510\n",
      "Epoch 13/100\n",
      "14/14 [==============================] - 0s 5ms/step - loss: 0.0824 - accuracy: 0.9836 - val_loss: 0.1188 - val_accuracy: 0.9510\n",
      "Epoch 14/100\n",
      "14/14 [==============================] - 0s 5ms/step - loss: 0.0774 - accuracy: 0.9836 - val_loss: 0.1149 - val_accuracy: 0.9510\n",
      "Epoch 15/100\n",
      "14/14 [==============================] - 0s 5ms/step - loss: 0.0730 - accuracy: 0.9836 - val_loss: 0.1116 - val_accuracy: 0.9510\n",
      "Epoch 16/100\n",
      "14/14 [==============================] - 0s 5ms/step - loss: 0.0691 - accuracy: 0.9836 - val_loss: 0.1097 - val_accuracy: 0.9510\n",
      "Epoch 17/100\n",
      "14/14 [==============================] - 0s 5ms/step - loss: 0.0654 - accuracy: 0.9836 - val_loss: 0.1064 - val_accuracy: 0.9510\n",
      "Epoch 18/100\n",
      "14/14 [==============================] - 0s 5ms/step - loss: 0.0624 - accuracy: 0.9836 - val_loss: 0.1046 - val_accuracy: 0.9650\n",
      "Epoch 19/100\n",
      "14/14 [==============================] - 0s 5ms/step - loss: 0.0586 - accuracy: 0.9883 - val_loss: 0.1023 - val_accuracy: 0.9650\n",
      "Epoch 20/100\n",
      "14/14 [==============================] - 0s 4ms/step - loss: 0.0556 - accuracy: 0.9883 - val_loss: 0.1014 - val_accuracy: 0.9650\n",
      "Epoch 21/100\n",
      "14/14 [==============================] - 0s 5ms/step - loss: 0.0531 - accuracy: 0.9883 - val_loss: 0.0998 - val_accuracy: 0.9650\n",
      "Epoch 22/100\n",
      "14/14 [==============================] - 0s 6ms/step - loss: 0.0507 - accuracy: 0.9883 - val_loss: 0.0985 - val_accuracy: 0.9650\n",
      "Epoch 23/100\n",
      "14/14 [==============================] - 0s 6ms/step - loss: 0.0483 - accuracy: 0.9883 - val_loss: 0.0980 - val_accuracy: 0.9650\n",
      "Epoch 24/100\n",
      "14/14 [==============================] - 0s 4ms/step - loss: 0.0463 - accuracy: 0.9883 - val_loss: 0.0971 - val_accuracy: 0.9650\n",
      "Epoch 25/100\n",
      "14/14 [==============================] - 0s 5ms/step - loss: 0.0440 - accuracy: 0.9883 - val_loss: 0.0957 - val_accuracy: 0.9650\n",
      "Epoch 26/100\n",
      "14/14 [==============================] - 0s 5ms/step - loss: 0.0422 - accuracy: 0.9883 - val_loss: 0.0949 - val_accuracy: 0.9650\n",
      "Epoch 27/100\n",
      "14/14 [==============================] - 0s 5ms/step - loss: 0.0399 - accuracy: 0.9906 - val_loss: 0.0935 - val_accuracy: 0.9580\n",
      "Epoch 28/100\n",
      "14/14 [==============================] - 0s 5ms/step - loss: 0.0382 - accuracy: 0.9906 - val_loss: 0.0932 - val_accuracy: 0.9580\n",
      "Epoch 29/100\n",
      "14/14 [==============================] - 0s 5ms/step - loss: 0.0368 - accuracy: 0.9906 - val_loss: 0.0911 - val_accuracy: 0.9580\n",
      "Epoch 30/100\n",
      "14/14 [==============================] - 0s 4ms/step - loss: 0.0351 - accuracy: 0.9906 - val_loss: 0.0930 - val_accuracy: 0.9650\n",
      "Epoch 31/100\n",
      "14/14 [==============================] - 0s 5ms/step - loss: 0.0338 - accuracy: 0.9906 - val_loss: 0.0915 - val_accuracy: 0.9650\n",
      "Epoch 32/100\n",
      "14/14 [==============================] - 0s 5ms/step - loss: 0.0319 - accuracy: 0.9906 - val_loss: 0.0904 - val_accuracy: 0.9650\n",
      "Epoch 33/100\n",
      "14/14 [==============================] - 0s 5ms/step - loss: 0.0305 - accuracy: 0.9906 - val_loss: 0.0894 - val_accuracy: 0.9650\n",
      "Epoch 34/100\n",
      "14/14 [==============================] - 0s 5ms/step - loss: 0.0291 - accuracy: 0.9906 - val_loss: 0.0889 - val_accuracy: 0.9650\n",
      "Epoch 35/100\n",
      "14/14 [==============================] - 0s 5ms/step - loss: 0.0278 - accuracy: 0.9906 - val_loss: 0.0883 - val_accuracy: 0.9650\n",
      "Epoch 36/100\n",
      "14/14 [==============================] - 0s 5ms/step - loss: 0.0270 - accuracy: 0.9906 - val_loss: 0.0863 - val_accuracy: 0.9650\n",
      "Epoch 37/100\n",
      "14/14 [==============================] - 0s 5ms/step - loss: 0.0253 - accuracy: 0.9930 - val_loss: 0.0856 - val_accuracy: 0.9650\n",
      "Epoch 38/100\n",
      "14/14 [==============================] - 0s 5ms/step - loss: 0.0243 - accuracy: 0.9930 - val_loss: 0.0846 - val_accuracy: 0.9650\n",
      "Epoch 39/100\n",
      "14/14 [==============================] - 0s 4ms/step - loss: 0.0230 - accuracy: 0.9930 - val_loss: 0.0848 - val_accuracy: 0.9650\n",
      "Epoch 40/100\n",
      "14/14 [==============================] - 0s 4ms/step - loss: 0.0217 - accuracy: 0.9930 - val_loss: 0.0843 - val_accuracy: 0.9650\n",
      "Epoch 41/100\n",
      "14/14 [==============================] - 0s 4ms/step - loss: 0.0208 - accuracy: 0.9930 - val_loss: 0.0841 - val_accuracy: 0.9650\n",
      "Epoch 42/100\n",
      "14/14 [==============================] - 0s 4ms/step - loss: 0.0201 - accuracy: 0.9930 - val_loss: 0.0843 - val_accuracy: 0.9650\n",
      "Epoch 43/100\n",
      "14/14 [==============================] - 0s 4ms/step - loss: 0.0192 - accuracy: 0.9930 - val_loss: 0.0843 - val_accuracy: 0.9650\n",
      "Epoch 44/100\n",
      "14/14 [==============================] - 0s 4ms/step - loss: 0.0183 - accuracy: 0.9953 - val_loss: 0.0837 - val_accuracy: 0.9650\n",
      "Epoch 45/100\n",
      "14/14 [==============================] - 0s 4ms/step - loss: 0.0176 - accuracy: 0.9953 - val_loss: 0.0841 - val_accuracy: 0.9650\n",
      "Epoch 46/100\n",
      "14/14 [==============================] - 0s 4ms/step - loss: 0.0168 - accuracy: 0.9977 - val_loss: 0.0838 - val_accuracy: 0.9650\n",
      "Epoch 47/100\n",
      "14/14 [==============================] - 0s 4ms/step - loss: 0.0159 - accuracy: 0.9953 - val_loss: 0.0824 - val_accuracy: 0.9650\n",
      "Epoch 48/100\n",
      "14/14 [==============================] - 0s 4ms/step - loss: 0.0152 - accuracy: 0.9977 - val_loss: 0.0824 - val_accuracy: 0.9650\n",
      "Epoch 49/100\n",
      "14/14 [==============================] - 0s 6ms/step - loss: 0.0146 - accuracy: 0.9977 - val_loss: 0.0824 - val_accuracy: 0.9650\n",
      "Epoch 50/100\n",
      "14/14 [==============================] - 0s 4ms/step - loss: 0.0141 - accuracy: 0.9977 - val_loss: 0.0821 - val_accuracy: 0.9650\n",
      "Epoch 51/100\n",
      "14/14 [==============================] - 0s 4ms/step - loss: 0.0135 - accuracy: 0.9977 - val_loss: 0.0821 - val_accuracy: 0.9650\n",
      "Epoch 52/100\n",
      "14/14 [==============================] - 0s 4ms/step - loss: 0.0128 - accuracy: 0.9977 - val_loss: 0.0822 - val_accuracy: 0.9720\n",
      "Epoch 53/100\n",
      "14/14 [==============================] - 0s 4ms/step - loss: 0.0127 - accuracy: 0.9977 - val_loss: 0.0847 - val_accuracy: 0.9720\n",
      "Epoch 54/100\n",
      "14/14 [==============================] - 0s 4ms/step - loss: 0.0119 - accuracy: 1.0000 - val_loss: 0.0823 - val_accuracy: 0.9720\n",
      "Epoch 55/100\n",
      "14/14 [==============================] - 0s 4ms/step - loss: 0.0112 - accuracy: 1.0000 - val_loss: 0.0823 - val_accuracy: 0.9720\n",
      "Epoch 56/100\n",
      "14/14 [==============================] - 0s 4ms/step - loss: 0.0106 - accuracy: 1.0000 - val_loss: 0.0818 - val_accuracy: 0.9720\n",
      "Epoch 57/100\n",
      "14/14 [==============================] - 0s 4ms/step - loss: 0.0101 - accuracy: 1.0000 - val_loss: 0.0813 - val_accuracy: 0.9720\n",
      "Epoch 58/100\n",
      "14/14 [==============================] - 0s 4ms/step - loss: 0.0100 - accuracy: 1.0000 - val_loss: 0.0811 - val_accuracy: 0.9720\n"
     ]
    },
    {
     "name": "stdout",
     "output_type": "stream",
     "text": [
      "Epoch 59/100\n",
      "14/14 [==============================] - 0s 4ms/step - loss: 0.0093 - accuracy: 1.0000 - val_loss: 0.0815 - val_accuracy: 0.9720\n",
      "Epoch 60/100\n",
      "14/14 [==============================] - 0s 4ms/step - loss: 0.0090 - accuracy: 1.0000 - val_loss: 0.0815 - val_accuracy: 0.9720\n",
      "Epoch 61/100\n",
      "14/14 [==============================] - 0s 4ms/step - loss: 0.0087 - accuracy: 1.0000 - val_loss: 0.0816 - val_accuracy: 0.9720\n",
      "Epoch 62/100\n",
      "14/14 [==============================] - 0s 4ms/step - loss: 0.0083 - accuracy: 1.0000 - val_loss: 0.0815 - val_accuracy: 0.9720\n",
      "Epoch 63/100\n",
      "14/14 [==============================] - 0s 4ms/step - loss: 0.0080 - accuracy: 1.0000 - val_loss: 0.0815 - val_accuracy: 0.9720\n",
      "Epoch 64/100\n",
      "14/14 [==============================] - 0s 4ms/step - loss: 0.0081 - accuracy: 1.0000 - val_loss: 0.0815 - val_accuracy: 0.9720\n",
      "Epoch 65/100\n",
      "14/14 [==============================] - 0s 4ms/step - loss: 0.0075 - accuracy: 1.0000 - val_loss: 0.0822 - val_accuracy: 0.9720\n",
      "Epoch 66/100\n",
      "14/14 [==============================] - 0s 4ms/step - loss: 0.0073 - accuracy: 1.0000 - val_loss: 0.0822 - val_accuracy: 0.9720\n",
      "Epoch 67/100\n",
      "14/14 [==============================] - 0s 4ms/step - loss: 0.0070 - accuracy: 1.0000 - val_loss: 0.0818 - val_accuracy: 0.9720\n",
      "Epoch 68/100\n",
      "14/14 [==============================] - 0s 4ms/step - loss: 0.0069 - accuracy: 1.0000 - val_loss: 0.0818 - val_accuracy: 0.9720\n",
      "Epoch 69/100\n",
      "14/14 [==============================] - 0s 4ms/step - loss: 0.0065 - accuracy: 1.0000 - val_loss: 0.0825 - val_accuracy: 0.9720\n",
      "Epoch 70/100\n",
      "14/14 [==============================] - 0s 4ms/step - loss: 0.0063 - accuracy: 1.0000 - val_loss: 0.0825 - val_accuracy: 0.9720\n",
      "Epoch 71/100\n",
      "14/14 [==============================] - 0s 4ms/step - loss: 0.0061 - accuracy: 1.0000 - val_loss: 0.0822 - val_accuracy: 0.9720\n",
      "Epoch 72/100\n",
      "14/14 [==============================] - 0s 4ms/step - loss: 0.0060 - accuracy: 1.0000 - val_loss: 0.0830 - val_accuracy: 0.9720\n",
      "Epoch 73/100\n",
      "14/14 [==============================] - 0s 4ms/step - loss: 0.0056 - accuracy: 1.0000 - val_loss: 0.0827 - val_accuracy: 0.9720\n",
      "Epoch 74/100\n",
      "14/14 [==============================] - 0s 4ms/step - loss: 0.0057 - accuracy: 1.0000 - val_loss: 0.0826 - val_accuracy: 0.9720\n",
      "Epoch 75/100\n",
      "14/14 [==============================] - 0s 4ms/step - loss: 0.0053 - accuracy: 1.0000 - val_loss: 0.0838 - val_accuracy: 0.9720\n",
      "Epoch 76/100\n",
      "14/14 [==============================] - 0s 4ms/step - loss: 0.0052 - accuracy: 1.0000 - val_loss: 0.0842 - val_accuracy: 0.9720\n",
      "Epoch 77/100\n",
      "14/14 [==============================] - 0s 4ms/step - loss: 0.0050 - accuracy: 1.0000 - val_loss: 0.0838 - val_accuracy: 0.9720\n",
      "Epoch 78/100\n",
      "14/14 [==============================] - 0s 4ms/step - loss: 0.0048 - accuracy: 1.0000 - val_loss: 0.0840 - val_accuracy: 0.9720\n",
      "Epoch 79/100\n",
      "14/14 [==============================] - 0s 4ms/step - loss: 0.0047 - accuracy: 1.0000 - val_loss: 0.0841 - val_accuracy: 0.9720\n",
      "Epoch 80/100\n",
      "14/14 [==============================] - 0s 5ms/step - loss: 0.0045 - accuracy: 1.0000 - val_loss: 0.0845 - val_accuracy: 0.9720\n",
      "Epoch 81/100\n",
      "14/14 [==============================] - 0s 5ms/step - loss: 0.0044 - accuracy: 1.0000 - val_loss: 0.0846 - val_accuracy: 0.9720\n",
      "Epoch 82/100\n",
      "14/14 [==============================] - 0s 5ms/step - loss: 0.0042 - accuracy: 1.0000 - val_loss: 0.0840 - val_accuracy: 0.9720\n",
      "Epoch 83/100\n",
      "14/14 [==============================] - 0s 5ms/step - loss: 0.0042 - accuracy: 1.0000 - val_loss: 0.0850 - val_accuracy: 0.9720\n",
      "Epoch 84/100\n",
      "14/14 [==============================] - 0s 5ms/step - loss: 0.0041 - accuracy: 1.0000 - val_loss: 0.0862 - val_accuracy: 0.9720\n",
      "Epoch 85/100\n",
      "14/14 [==============================] - 0s 5ms/step - loss: 0.0039 - accuracy: 1.0000 - val_loss: 0.0863 - val_accuracy: 0.9720\n",
      "Epoch 86/100\n",
      "14/14 [==============================] - 0s 5ms/step - loss: 0.0037 - accuracy: 1.0000 - val_loss: 0.0865 - val_accuracy: 0.9720\n",
      "Epoch 87/100\n",
      "14/14 [==============================] - 0s 5ms/step - loss: 0.0036 - accuracy: 1.0000 - val_loss: 0.0868 - val_accuracy: 0.9720\n",
      "Epoch 88/100\n",
      "14/14 [==============================] - 0s 5ms/step - loss: 0.0035 - accuracy: 1.0000 - val_loss: 0.0871 - val_accuracy: 0.9720\n",
      "Epoch 89/100\n",
      "14/14 [==============================] - 0s 5ms/step - loss: 0.0034 - accuracy: 1.0000 - val_loss: 0.0874 - val_accuracy: 0.9720\n",
      "Epoch 90/100\n",
      "14/14 [==============================] - 0s 5ms/step - loss: 0.0033 - accuracy: 1.0000 - val_loss: 0.0874 - val_accuracy: 0.9720\n",
      "Epoch 91/100\n",
      "14/14 [==============================] - 0s 5ms/step - loss: 0.0032 - accuracy: 1.0000 - val_loss: 0.0876 - val_accuracy: 0.9720\n",
      "Epoch 92/100\n",
      "14/14 [==============================] - 0s 5ms/step - loss: 0.0031 - accuracy: 1.0000 - val_loss: 0.0885 - val_accuracy: 0.9720\n",
      "Epoch 93/100\n",
      "14/14 [==============================] - 0s 5ms/step - loss: 0.0030 - accuracy: 1.0000 - val_loss: 0.0887 - val_accuracy: 0.9720\n",
      "Epoch 94/100\n",
      "14/14 [==============================] - 0s 4ms/step - loss: 0.0030 - accuracy: 1.0000 - val_loss: 0.0889 - val_accuracy: 0.9720\n",
      "Epoch 95/100\n",
      "14/14 [==============================] - 0s 4ms/step - loss: 0.0028 - accuracy: 1.0000 - val_loss: 0.0895 - val_accuracy: 0.9720\n",
      "Epoch 96/100\n",
      "14/14 [==============================] - 0s 4ms/step - loss: 0.0028 - accuracy: 1.0000 - val_loss: 0.0895 - val_accuracy: 0.9720\n",
      "Epoch 97/100\n",
      "14/14 [==============================] - 0s 4ms/step - loss: 0.0028 - accuracy: 1.0000 - val_loss: 0.0906 - val_accuracy: 0.9720\n",
      "Epoch 98/100\n",
      "14/14 [==============================] - 0s 4ms/step - loss: 0.0027 - accuracy: 1.0000 - val_loss: 0.0909 - val_accuracy: 0.9720\n",
      "Epoch 99/100\n",
      "14/14 [==============================] - 0s 4ms/step - loss: 0.0026 - accuracy: 1.0000 - val_loss: 0.0904 - val_accuracy: 0.9720\n",
      "Epoch 100/100\n",
      "14/14 [==============================] - 0s 4ms/step - loss: 0.0025 - accuracy: 1.0000 - val_loss: 0.0911 - val_accuracy: 0.9720\n"
     ]
    },
    {
     "data": {
      "text/plain": [
       "<keras.callbacks.History at 0x1dd6f9ade20>"
      ]
     },
     "execution_count": 18,
     "metadata": {},
     "output_type": "execute_result"
    }
   ],
   "source": [
    "model.fit(x=X_train, y=y_train, epochs=100,validation_data=(X_test, y_test))"
   ]
  },
  {
   "cell_type": "code",
   "execution_count": 30,
   "metadata": {
    "colab": {
     "base_uri": "https://localhost:8080/",
     "height": 206
    },
    "executionInfo": {
     "elapsed": 46,
     "status": "ok",
     "timestamp": 1685873870689,
     "user": {
      "displayName": "Swapnil Sawant",
      "userId": "15366720411887311485"
     },
     "user_tz": -330
    },
    "id": "UXwqvKiI1Hmx",
    "outputId": "a49edcdb-acb6-4421-90c0-fea0c7926b4c"
   },
   "outputs": [
    {
     "data": {
      "text/html": [
       "<div>\n",
       "<style scoped>\n",
       "    .dataframe tbody tr th:only-of-type {\n",
       "        vertical-align: middle;\n",
       "    }\n",
       "\n",
       "    .dataframe tbody tr th {\n",
       "        vertical-align: top;\n",
       "    }\n",
       "\n",
       "    .dataframe thead th {\n",
       "        text-align: right;\n",
       "    }\n",
       "</style>\n",
       "<table border=\"1\" class=\"dataframe\">\n",
       "  <thead>\n",
       "    <tr style=\"text-align: right;\">\n",
       "      <th></th>\n",
       "    </tr>\n",
       "  </thead>\n",
       "  <tbody>\n",
       "  </tbody>\n",
       "</table>\n",
       "</div>"
      ],
      "text/plain": [
       "Empty DataFrame\n",
       "Columns: []\n",
       "Index: []"
      ]
     },
     "execution_count": 30,
     "metadata": {},
     "output_type": "execute_result"
    }
   ],
   "source": [
    "model_loss = pd.DataFrame(model.history.history)\n",
    "model_loss.head()"
   ]
  },
  {
   "cell_type": "code",
   "execution_count": 28,
   "metadata": {},
   "outputs": [
    {
     "data": {
      "text/plain": [
       "{}"
      ]
     },
     "execution_count": 28,
     "metadata": {},
     "output_type": "execute_result"
    }
   ],
   "source": [
    "model.history.history"
   ]
  },
  {
   "cell_type": "code",
   "execution_count": 20,
   "metadata": {
    "colab": {
     "base_uri": "https://localhost:8080/",
     "height": 469
    },
    "executionInfo": {
     "elapsed": 43,
     "status": "ok",
     "timestamp": 1685873870689,
     "user": {
      "displayName": "Swapnil Sawant",
      "userId": "15366720411887311485"
     },
     "user_tz": -330
    },
    "id": "VJVWt8fM1H8X",
    "outputId": "78c44355-664d-42c7-cb1e-d1f43096a475"
   },
   "outputs": [
    {
     "data": {
      "text/plain": [
       "Text(0.5, 1.0, 'Accuracy Comaprision for Traing and Testing data')"
      ]
     },
     "execution_count": 20,
     "metadata": {},
     "output_type": "execute_result"
    },
    {
     "data": {
      "image/png": "[encoded data removed]",
      "text/plain": [
       "<Figure size 640x480 with 1 Axes>"
      ]
     },
     "metadata": {},
     "output_type": "display_data"
    }
   ],
   "source": [
    "model_loss[['accuracy','val_accuracy']].plot()\n",
    "plt.title('Accuracy Comaprision for Traing and Testing data')"
   ]
  },
  {
   "cell_type": "code",
   "execution_count": 21,
   "metadata": {
    "colab": {
     "base_uri": "https://localhost:8080/",
     "height": 469
    },
    "executionInfo": {
     "elapsed": 935,
     "status": "ok",
     "timestamp": 1685873871589,
     "user": {
      "displayName": "Swapnil Sawant",
      "userId": "15366720411887311485"
     },
     "user_tz": -330
    },
    "id": "-4hLpXQX1H_X",
    "outputId": "86753a12-ba05-4b0d-b2cd-cf507cbcc985"
   },
   "outputs": [
    {
     "data": {
      "text/plain": [
       "Text(0.5, 1.0, 'Error Comaprision for Traing and Testing data')"
      ]
     },
     "execution_count": 21,
     "metadata": {},
     "output_type": "execute_result"
    },
    {
     "data": {
      "image/png": "[encoded data removed]",
      "text/plain": [
       "<Figure size 640x480 with 1 Axes>"
      ]
     },
     "metadata": {},
     "output_type": "display_data"
    }
   ],
   "source": [
    "model_loss[['loss','val_loss']].plot()\n",
    "plt.title('Error Comaprision for Traing and Testing data')"
   ]
  },
  {
   "cell_type": "markdown",
   "metadata": {
    "id": "XYlEy4qq2uIK"
   },
   "source": [
    "# Model Evaluation"
   ]
  },
  {
   "cell_type": "code",
   "execution_count": 22,
   "metadata": {
    "colab": {
     "base_uri": "https://localhost:8080/"
    },
    "executionInfo": {
     "elapsed": 35,
     "status": "ok",
     "timestamp": 1685873871590,
     "user": {
      "displayName": "Swapnil Sawant",
      "userId": "15366720411887311485"
     },
     "user_tz": -330
    },
    "id": "gXH8iX2K1n-Q",
    "outputId": "48df5bae-2907-44cc-c130-ac961d75bfd3"
   },
   "outputs": [
    {
     "name": "stdout",
     "output_type": "stream",
     "text": [
      "5/5 [==============================] - 0s 2ms/step\n"
     ]
    }
   ],
   "source": [
    "ypred=model.predict(X_test)"
   ]
  },
  {
   "cell_type": "code",
   "execution_count": 23,
   "metadata": {
    "colab": {
     "base_uri": "https://localhost:8080/"
    },
    "executionInfo": {
     "elapsed": 31,
     "status": "ok",
     "timestamp": 1685873871590,
     "user": {
      "displayName": "Swapnil Sawant",
      "userId": "15366720411887311485"
     },
     "user_tz": -330
    },
    "id": "3TRZLprw2QPo",
    "outputId": "fe92cce6-f2d2-4dc6-ef36-bfd8e5827bb6"
   },
   "outputs": [
    {
     "data": {
      "text/plain": [
       "array([[1],\n",
       "       [0],\n",
       "       [0],\n",
       "       [1],\n",
       "       [0],\n",
       "       [0],\n",
       "       [0],\n",
       "       [0],\n",
       "       [0],\n",
       "       [1],\n",
       "       [1],\n",
       "       [1],\n",
       "       [0],\n",
       "       [0],\n",
       "       [1],\n",
       "       [1],\n",
       "       [0],\n",
       "       [0],\n",
       "       [1],\n",
       "       [1],\n",
       "       [0],\n",
       "       [0],\n",
       "       [1],\n",
       "       [1],\n",
       "       [1],\n",
       "       [1],\n",
       "       [1],\n",
       "       [1],\n",
       "       [1],\n",
       "       [0],\n",
       "       [1],\n",
       "       [1],\n",
       "       [1],\n",
       "       [1],\n",
       "       [1],\n",
       "       [1],\n",
       "       [1],\n",
       "       [1],\n",
       "       [0],\n",
       "       [1],\n",
       "       [0],\n",
       "       [1],\n",
       "       [0],\n",
       "       [1],\n",
       "       [1],\n",
       "       [1],\n",
       "       [0],\n",
       "       [1],\n",
       "       [0],\n",
       "       [1],\n",
       "       [1],\n",
       "       [1],\n",
       "       [1],\n",
       "       [0],\n",
       "       [1],\n",
       "       [1],\n",
       "       [1],\n",
       "       [0],\n",
       "       [0],\n",
       "       [0],\n",
       "       [1],\n",
       "       [0],\n",
       "       [0],\n",
       "       [0],\n",
       "       [1],\n",
       "       [1],\n",
       "       [0],\n",
       "       [1],\n",
       "       [1],\n",
       "       [1],\n",
       "       [1],\n",
       "       [1],\n",
       "       [1],\n",
       "       [1],\n",
       "       [1],\n",
       "       [0],\n",
       "       [0],\n",
       "       [0],\n",
       "       [0],\n",
       "       [1],\n",
       "       [1],\n",
       "       [1],\n",
       "       [1],\n",
       "       [1],\n",
       "       [0],\n",
       "       [1],\n",
       "       [0],\n",
       "       [1],\n",
       "       [1],\n",
       "       [1],\n",
       "       [1],\n",
       "       [0],\n",
       "       [0],\n",
       "       [1],\n",
       "       [0],\n",
       "       [0],\n",
       "       [0],\n",
       "       [1],\n",
       "       [0],\n",
       "       [1],\n",
       "       [0],\n",
       "       [0],\n",
       "       [0],\n",
       "       [1],\n",
       "       [1],\n",
       "       [0],\n",
       "       [1],\n",
       "       [1],\n",
       "       [0],\n",
       "       [1],\n",
       "       [0],\n",
       "       [0],\n",
       "       [1],\n",
       "       [0],\n",
       "       [1],\n",
       "       [0],\n",
       "       [1],\n",
       "       [1],\n",
       "       [0],\n",
       "       [0],\n",
       "       [1],\n",
       "       [1],\n",
       "       [0],\n",
       "       [1],\n",
       "       [0],\n",
       "       [1],\n",
       "       [1],\n",
       "       [0],\n",
       "       [1],\n",
       "       [1],\n",
       "       [1],\n",
       "       [1],\n",
       "       [1],\n",
       "       [0],\n",
       "       [0],\n",
       "       [1],\n",
       "       [1],\n",
       "       [1],\n",
       "       [1],\n",
       "       [1],\n",
       "       [1],\n",
       "       [1],\n",
       "       [1]])"
      ]
     },
     "execution_count": 23,
     "metadata": {},
     "output_type": "execute_result"
    }
   ],
   "source": [
    "ypred=np.where(ypred>0.5,1,0)\n",
    "ypred"
   ]
  },
  {
   "cell_type": "code",
   "execution_count": 24,
   "metadata": {
    "executionInfo": {
     "elapsed": 30,
     "status": "ok",
     "timestamp": 1685873871591,
     "user": {
      "displayName": "Swapnil Sawant",
      "userId": "15366720411887311485"
     },
     "user_tz": -330
    },
    "id": "uzSUMy-o2XuS"
   },
   "outputs": [],
   "source": [
    "from sklearn.metrics import classification_report,confusion_matrix"
   ]
  },
  {
   "cell_type": "code",
   "execution_count": 25,
   "metadata": {
    "colab": {
     "base_uri": "https://localhost:8080/"
    },
    "executionInfo": {
     "elapsed": 30,
     "status": "ok",
     "timestamp": 1685873871591,
     "user": {
      "displayName": "Swapnil Sawant",
      "userId": "15366720411887311485"
     },
     "user_tz": -330
    },
    "id": "jsLtcB-F2dnE",
    "outputId": "0c520fb4-834e-42fc-c976-e56a23ac9f48"
   },
   "outputs": [
    {
     "name": "stdout",
     "output_type": "stream",
     "text": [
      "              precision    recall  f1-score   support\n",
      "\n",
      "           0       0.95      0.98      0.96        53\n",
      "           1       0.99      0.97      0.98        90\n",
      "\n",
      "    accuracy                           0.97       143\n",
      "   macro avg       0.97      0.97      0.97       143\n",
      "weighted avg       0.97      0.97      0.97       143\n",
      "\n"
     ]
    }
   ],
   "source": [
    "print(classification_report(y_test,ypred))"
   ]
  },
  {
   "cell_type": "code",
   "execution_count": 26,
   "metadata": {
    "colab": {
     "base_uri": "https://localhost:8080/"
    },
    "executionInfo": {
     "elapsed": 26,
     "status": "ok",
     "timestamp": 1685873871592,
     "user": {
      "displayName": "Swapnil Sawant",
      "userId": "15366720411887311485"
     },
     "user_tz": -330
    },
    "id": "N78-3DCK2jNS",
    "outputId": "c14adac7-19a6-4026-8f28-503e65269fc6"
   },
   "outputs": [
    {
     "name": "stdout",
     "output_type": "stream",
     "text": [
      "[[52  1]\n",
      " [ 3 87]]\n"
     ]
    }
   ],
   "source": [
    "print(confusion_matrix(y_test,ypred))"
   ]
  },
  {
   "cell_type": "code",
   "execution_count": 27,
   "metadata": {
    "executionInfo": {
     "elapsed": 25,
     "status": "ok",
     "timestamp": 1685873871592,
     "user": {
      "displayName": "Swapnil Sawant",
      "userId": "15366720411887311485"
     },
     "user_tz": -330
    },
    "id": "hJVsK3VK2oMl"
   },
   "outputs": [],
   "source": [
    "#Model is OverFitted..."
   ]
  },
  {
   "cell_type": "markdown",
   "metadata": {
    "id": "IPU9_Qp73JAP"
   },
   "source": [
    "# OverFitting Removal \n"
   ]
  },
  {
   "cell_type": "markdown",
   "metadata": {
    "id": "4Y4sjFsF37HG"
   },
   "source": [
    "## Early Stopping"
   ]
  },
  {
   "cell_type": "code",
   "execution_count": null,
   "metadata": {
    "executionInfo": {
     "elapsed": 25,
     "status": "ok",
     "timestamp": 1685873871593,
     "user": {
      "displayName": "Swapnil Sawant",
      "userId": "15366720411887311485"
     },
     "user_tz": -330
    },
    "id": "QBas0yb93aGY"
   },
   "outputs": [],
   "source": [
    "from tensorflow.keras.callbacks import EarlyStopping"
   ]
  },
  {
   "cell_type": "code",
   "execution_count": null,
   "metadata": {
    "executionInfo": {
     "elapsed": 24,
     "status": "ok",
     "timestamp": 1685873871593,
     "user": {
      "displayName": "Swapnil Sawant",
      "userId": "15366720411887311485"
     },
     "user_tz": -330
    },
    "id": "ql9U9pq73Ic7"
   },
   "outputs": [],
   "source": [
    "model = Sequential()\n",
    "model.add(Dense(units=30,activation='relu'))\n",
    "model.add(Dense(units=15,activation='relu'))\n",
    "model.add(Dense(units=1,activation='sigmoid'))\n",
    "model.compile(loss='binary_crossentropy', optimizer='adam',metrics=['accuracy'])"
   ]
  },
  {
   "cell_type": "code",
   "execution_count": null,
   "metadata": {
    "executionInfo": {
     "elapsed": 25,
     "status": "ok",
     "timestamp": 1685873871594,
     "user": {
      "displayName": "Swapnil Sawant",
      "userId": "15366720411887311485"
     },
     "user_tz": -330
    },
    "id": "mJDwlMfM3AKy"
   },
   "outputs": [],
   "source": [
    "early_stop = EarlyStopping(monitor='val_loss', mode='min', verbose=1, patience=25)"
   ]
  },
  {
   "cell_type": "code",
   "execution_count": null,
   "metadata": {
    "colab": {
     "base_uri": "https://localhost:8080/"
    },
    "executionInfo": {
     "elapsed": 5279,
     "status": "ok",
     "timestamp": 1685873876848,
     "user": {
      "displayName": "Swapnil Sawant",
      "userId": "15366720411887311485"
     },
     "user_tz": -330
    },
    "id": "qOPmY9Hc3BHV",
    "outputId": "ea159796-25a4-4c17-d4b0-95cb21445b4f"
   },
   "outputs": [],
   "source": [
    "model.fit(x=X_train, \n",
    "          y=y_train, \n",
    "          epochs=600,\n",
    "          validation_data=(X_test, y_test), verbose=1,\n",
    "          callbacks=[early_stop]\n",
    "          )"
   ]
  },
  {
   "cell_type": "code",
   "execution_count": null,
   "metadata": {
    "colab": {
     "base_uri": "https://localhost:8080/",
     "height": 447
    },
    "executionInfo": {
     "elapsed": 1094,
     "status": "ok",
     "timestamp": 1685873877931,
     "user": {
      "displayName": "Swapnil Sawant",
      "userId": "15366720411887311485"
     },
     "user_tz": -330
    },
    "id": "njyBaHsX3uHi",
    "outputId": "f3e77bdc-bfd2-4c62-ab3c-ac87e9de41db"
   },
   "outputs": [],
   "source": [
    "model_loss = pd.DataFrame(model.history.history)\n",
    "model_loss.plot()"
   ]
  },
  {
   "cell_type": "code",
   "execution_count": null,
   "metadata": {
    "executionInfo": {
     "elapsed": 34,
     "status": "ok",
     "timestamp": 1685873877931,
     "user": {
      "displayName": "Swapnil Sawant",
      "userId": "15366720411887311485"
     },
     "user_tz": -330
    },
    "id": "CwJ6BcaG3u1Z"
   },
   "outputs": [],
   "source": []
  },
  {
   "cell_type": "markdown",
   "metadata": {
    "id": "UYvd2-g632S-"
   },
   "source": [
    "## Adding in DropOut Layers"
   ]
  },
  {
   "cell_type": "code",
   "execution_count": null,
   "metadata": {
    "executionInfo": {
     "elapsed": 34,
     "status": "ok",
     "timestamp": 1685873877932,
     "user": {
      "displayName": "Swapnil Sawant",
      "userId": "15366720411887311485"
     },
     "user_tz": -330
    },
    "id": "P1DMv4Kf4EMJ"
   },
   "outputs": [],
   "source": [
    "from tensorflow.keras.layers import Dropout"
   ]
  },
  {
   "cell_type": "code",
   "execution_count": null,
   "metadata": {
    "executionInfo": {
     "elapsed": 35,
     "status": "ok",
     "timestamp": 1685873877933,
     "user": {
      "displayName": "Swapnil Sawant",
      "userId": "15366720411887311485"
     },
     "user_tz": -330
    },
    "id": "RY0m2jrR4EP7"
   },
   "outputs": [],
   "source": [
    "model = Sequential()\n",
    "model.add(Dense(units=30,activation='relu'))\n",
    "model.add(Dropout(0.5))\n",
    "\n",
    "model.add(Dense(units=15,activation='relu'))\n",
    "model.add(Dropout(0.5))\n",
    "\n",
    "model.add(Dense(units=1,activation='sigmoid'))\n",
    "model.compile(loss='binary_crossentropy', optimizer='adam',metrics=['accuracy'])"
   ]
  },
  {
   "cell_type": "code",
   "execution_count": null,
   "metadata": {
    "colab": {
     "base_uri": "https://localhost:8080/"
    },
    "executionInfo": {
     "elapsed": 9225,
     "status": "ok",
     "timestamp": 1685873887124,
     "user": {
      "displayName": "Swapnil Sawant",
      "userId": "15366720411887311485"
     },
     "user_tz": -330
    },
    "id": "q1fF6Ko14ES8",
    "outputId": "48c46dd8-cc1b-4e23-82a4-75938b047ab0"
   },
   "outputs": [],
   "source": [
    "model.fit(x=X_train, \n",
    "          y=y_train, \n",
    "          epochs=600,\n",
    "          validation_data=(X_test, y_test), verbose=1,\n",
    "          callbacks=[early_stop]\n",
    "          )"
   ]
  },
  {
   "cell_type": "code",
   "execution_count": null,
   "metadata": {
    "colab": {
     "base_uri": "https://localhost:8080/",
     "height": 477
    },
    "executionInfo": {
     "elapsed": 35,
     "status": "ok",
     "timestamp": 1685873887124,
     "user": {
      "displayName": "Swapnil Sawant",
      "userId": "15366720411887311485"
     },
     "user_tz": -330
    },
    "id": "u4D-kUSi4RCV",
    "outputId": "98935336-84d3-4313-d7db-e7ac9a485aa5"
   },
   "outputs": [],
   "source": [
    "model_loss = pd.DataFrame(model.history.history)\n",
    "model_loss[['accuracy','val_accuracy']].plot()\n",
    "plt.title('Accuracy Comaprision for Traing and Testing data',size=20)"
   ]
  },
  {
   "cell_type": "code",
   "execution_count": null,
   "metadata": {
    "colab": {
     "base_uri": "https://localhost:8080/",
     "height": 477
    },
    "executionInfo": {
     "elapsed": 1352,
     "status": "ok",
     "timestamp": 1685873888454,
     "user": {
      "displayName": "Swapnil Sawant",
      "userId": "15366720411887311485"
     },
     "user_tz": -330
    },
    "id": "W6ZcO7mr4bmz",
    "outputId": "d7f42763-7124-4d22-858c-ea1dfee4939b"
   },
   "outputs": [],
   "source": [
    "model_loss[['loss','val_loss']].plot()\n",
    "plt.title('Error Comaprision for Traing and Testing data',size=20)"
   ]
  },
  {
   "cell_type": "markdown",
   "metadata": {
    "id": "AiMM5e0K42p2"
   },
   "source": [
    "# **Model Is Perfectly Fit**"
   ]
  },
  {
   "cell_type": "code",
   "execution_count": null,
   "metadata": {
    "colab": {
     "base_uri": "https://localhost:8080/"
    },
    "executionInfo": {
     "elapsed": 29,
     "status": "ok",
     "timestamp": 1685873888455,
     "user": {
      "displayName": "Swapnil Sawant",
      "userId": "15366720411887311485"
     },
     "user_tz": -330
    },
    "id": "vujIR3HS4m-Z",
    "outputId": "8d769ce6-6a39-4db2-bfc1-9a7408f42e18"
   },
   "outputs": [],
   "source": [
    "ypred=model.predict(X_test)"
   ]
  },
  {
   "cell_type": "code",
   "execution_count": null,
   "metadata": {
    "colab": {
     "base_uri": "https://localhost:8080/"
    },
    "executionInfo": {
     "elapsed": 26,
     "status": "ok",
     "timestamp": 1685873888455,
     "user": {
      "displayName": "Swapnil Sawant",
      "userId": "15366720411887311485"
     },
     "user_tz": -330
    },
    "id": "l7bLsTQy5IE5",
    "outputId": "e2c1e3c6-840e-4e13-a669-6cf070177f64"
   },
   "outputs": [],
   "source": [
    "ypred=np.where(ypred>0.5,1,0)\n",
    "ypred"
   ]
  },
  {
   "cell_type": "code",
   "execution_count": null,
   "metadata": {
    "colab": {
     "base_uri": "https://localhost:8080/"
    },
    "executionInfo": {
     "elapsed": 26,
     "status": "ok",
     "timestamp": 1685873888456,
     "user": {
      "displayName": "Swapnil Sawant",
      "userId": "15366720411887311485"
     },
     "user_tz": -330
    },
    "id": "8o1hoTwY5cBy",
    "outputId": "a727c1a1-a2a4-4c5d-c313-ba3b42c8b77b"
   },
   "outputs": [],
   "source": [
    "print(classification_report(y_test,ypred))"
   ]
  },
  {
   "cell_type": "code",
   "execution_count": null,
   "metadata": {
    "colab": {
     "base_uri": "https://localhost:8080/"
    },
    "executionInfo": {
     "elapsed": 22,
     "status": "ok",
     "timestamp": 1685873888456,
     "user": {
      "displayName": "Swapnil Sawant",
      "userId": "15366720411887311485"
     },
     "user_tz": -330
    },
    "id": "iRD1iNYZ5QqV",
    "outputId": "a6a81d5d-7428-4d52-8cf9-ec2007fa8de6"
   },
   "outputs": [],
   "source": [
    "print(confusion_matrix(y_test,ypred))"
   ]
  }
 ],
 "metadata": {
  "colab": {
   "authorship_tag": "ABX9TyP0EdI+eRV7Lym5rTJ3wBRx",
   "provenance": [],
   "toc_visible": true
  },
  "kernelspec": {
   "display_name": "Python 3 (ipykernel)",
   "language": "python",
   "name": "python3"
  },
  "language_info": {
   "codemirror_mode": {
    "name": "ipython",
    "version": 3
   },
   "file_extension": ".py",
   "mimetype": "text/x-python",
   "name": "python",
   "nbconvert_exporter": "python",
   "pygments_lexer": "ipython3",
   "version": "3.8.3"
  }
 },
 "nbformat": 4,
 "nbformat_minor": 1
}
